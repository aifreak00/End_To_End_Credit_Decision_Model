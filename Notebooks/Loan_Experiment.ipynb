{
 "cells": [
  {
   "cell_type": "code",
   "execution_count": 1,
   "id": "fa93e366-4b10-40d9-8aa9-3b349fcc4e58",
   "metadata": {},
   "outputs": [],
   "source": [
    "# Import libraries\n",
    "import numpy as np\n",
    "import pandas as pd\n",
    "from sklearn.impute import SimpleImputer\n",
    "from sklearn.preprocessing import LabelEncoder, StandardScaler"
   ]
  },
  {
   "cell_type": "code",
   "execution_count": 2,
   "id": "20164173-5c8b-44c6-b3a4-c3fa6a4858be",
   "metadata": {},
   "outputs": [],
   "source": [
    "# Load the datasets\n",
    "raw_train = pd.read_csv(\"train.csv\")\n",
    "raw_test = pd.read_csv(\"test.csv\")"
   ]
  },
  {
   "cell_type": "code",
   "execution_count": 3,
   "id": "43cb8050-d3d6-45f0-99aa-5383f79b52c7",
   "metadata": {},
   "outputs": [
    {
     "data": {
      "text/html": [
       "<div>\n",
       "<style scoped>\n",
       "    .dataframe tbody tr th:only-of-type {\n",
       "        vertical-align: middle;\n",
       "    }\n",
       "\n",
       "    .dataframe tbody tr th {\n",
       "        vertical-align: top;\n",
       "    }\n",
       "\n",
       "    .dataframe thead th {\n",
       "        text-align: right;\n",
       "    }\n",
       "</style>\n",
       "<table border=\"1\" class=\"dataframe\">\n",
       "  <thead>\n",
       "    <tr style=\"text-align: right;\">\n",
       "      <th></th>\n",
       "      <th>customer_id</th>\n",
       "      <th>rate</th>\n",
       "      <th>amount</th>\n",
       "      <th>purpose</th>\n",
       "      <th>period</th>\n",
       "      <th>cus_age</th>\n",
       "      <th>gender</th>\n",
       "      <th>education_level</th>\n",
       "      <th>marital_status</th>\n",
       "      <th>has_children</th>\n",
       "      <th>living_situation</th>\n",
       "      <th>total_experience</th>\n",
       "      <th>income</th>\n",
       "      <th>job_sector</th>\n",
       "      <th>DTI</th>\n",
       "      <th>APR</th>\n",
       "      <th>ccr_tot_mounth_amt</th>\n",
       "      <th>ccr_payed_loan_tot_amt</th>\n",
       "      <th>ccr_act_loan_tot_rest_amt</th>\n",
       "      <th>loan_status</th>\n",
       "    </tr>\n",
       "  </thead>\n",
       "  <tbody>\n",
       "    <tr>\n",
       "      <th>0</th>\n",
       "      <td>3683</td>\n",
       "      <td>20.506515</td>\n",
       "      <td>4835.783206</td>\n",
       "      <td>Personal</td>\n",
       "      <td>11</td>\n",
       "      <td>35</td>\n",
       "      <td>Female</td>\n",
       "      <td>Educated</td>\n",
       "      <td>Single</td>\n",
       "      <td>Yes</td>\n",
       "      <td>Dependent</td>\n",
       "      <td>137</td>\n",
       "      <td>1063.261168</td>\n",
       "      <td>Public</td>\n",
       "      <td>31.798407</td>\n",
       "      <td>19.605675</td>\n",
       "      <td>63.301509</td>\n",
       "      <td>0.000000</td>\n",
       "      <td>168.928244</td>\n",
       "      <td>0</td>\n",
       "    </tr>\n",
       "    <tr>\n",
       "      <th>1</th>\n",
       "      <td>11464</td>\n",
       "      <td>19.468150</td>\n",
       "      <td>5043.251855</td>\n",
       "      <td>Personal</td>\n",
       "      <td>8</td>\n",
       "      <td>43</td>\n",
       "      <td>Male</td>\n",
       "      <td>Educated</td>\n",
       "      <td>Single</td>\n",
       "      <td>Yes</td>\n",
       "      <td>Independent</td>\n",
       "      <td>184</td>\n",
       "      <td>165.723689</td>\n",
       "      <td>Public</td>\n",
       "      <td>41.770757</td>\n",
       "      <td>30.610585</td>\n",
       "      <td>46.914918</td>\n",
       "      <td>12824.121594</td>\n",
       "      <td>1168.763167</td>\n",
       "      <td>1</td>\n",
       "    </tr>\n",
       "    <tr>\n",
       "      <th>2</th>\n",
       "      <td>2170</td>\n",
       "      <td>19.825773</td>\n",
       "      <td>4110.494869</td>\n",
       "      <td>Maintenance</td>\n",
       "      <td>17</td>\n",
       "      <td>39</td>\n",
       "      <td>Female</td>\n",
       "      <td>Unknown/Other</td>\n",
       "      <td>Single</td>\n",
       "      <td>No</td>\n",
       "      <td>Dependent</td>\n",
       "      <td>0</td>\n",
       "      <td>87.185314</td>\n",
       "      <td>Private</td>\n",
       "      <td>35.620239</td>\n",
       "      <td>19.827671</td>\n",
       "      <td>9.626135</td>\n",
       "      <td>5874.631144</td>\n",
       "      <td>345.921464</td>\n",
       "      <td>1</td>\n",
       "    </tr>\n",
       "    <tr>\n",
       "      <th>3</th>\n",
       "      <td>10330</td>\n",
       "      <td>19.112241</td>\n",
       "      <td>3977.846540</td>\n",
       "      <td>Personal</td>\n",
       "      <td>31</td>\n",
       "      <td>33</td>\n",
       "      <td>Female</td>\n",
       "      <td>Unknown/Other</td>\n",
       "      <td>Single</td>\n",
       "      <td>No</td>\n",
       "      <td>Dependent</td>\n",
       "      <td>65</td>\n",
       "      <td>727.132601</td>\n",
       "      <td>Private</td>\n",
       "      <td>31.287542</td>\n",
       "      <td>21.566299</td>\n",
       "      <td>0.000000</td>\n",
       "      <td>6897.890318</td>\n",
       "      <td>0.000000</td>\n",
       "      <td>0</td>\n",
       "    </tr>\n",
       "    <tr>\n",
       "      <th>4</th>\n",
       "      <td>14564</td>\n",
       "      <td>19.995923</td>\n",
       "      <td>3864.356200</td>\n",
       "      <td>Maintenance</td>\n",
       "      <td>12</td>\n",
       "      <td>26</td>\n",
       "      <td>Male</td>\n",
       "      <td>Unknown/Other</td>\n",
       "      <td>Married</td>\n",
       "      <td>Yes</td>\n",
       "      <td>Dependent</td>\n",
       "      <td>107</td>\n",
       "      <td>1507.508695</td>\n",
       "      <td>Private</td>\n",
       "      <td>27.803383</td>\n",
       "      <td>21.229908</td>\n",
       "      <td>16.979558</td>\n",
       "      <td>2100.455986</td>\n",
       "      <td>0.000000</td>\n",
       "      <td>0</td>\n",
       "    </tr>\n",
       "  </tbody>\n",
       "</table>\n",
       "</div>"
      ],
      "text/plain": [
       "   customer_id       rate       amount      purpose  period  cus_age  gender  \\\n",
       "0         3683  20.506515  4835.783206     Personal      11       35  Female   \n",
       "1        11464  19.468150  5043.251855     Personal       8       43    Male   \n",
       "2         2170  19.825773  4110.494869  Maintenance      17       39  Female   \n",
       "3        10330  19.112241  3977.846540     Personal      31       33  Female   \n",
       "4        14564  19.995923  3864.356200  Maintenance      12       26    Male   \n",
       "\n",
       "  education_level marital_status has_children living_situation  \\\n",
       "0        Educated         Single          Yes        Dependent   \n",
       "1        Educated         Single          Yes      Independent   \n",
       "2   Unknown/Other         Single           No        Dependent   \n",
       "3   Unknown/Other         Single           No        Dependent   \n",
       "4   Unknown/Other        Married          Yes        Dependent   \n",
       "\n",
       "   total_experience       income job_sector        DTI        APR  \\\n",
       "0               137  1063.261168     Public  31.798407  19.605675   \n",
       "1               184   165.723689     Public  41.770757  30.610585   \n",
       "2                 0    87.185314    Private  35.620239  19.827671   \n",
       "3                65   727.132601    Private  31.287542  21.566299   \n",
       "4               107  1507.508695    Private  27.803383  21.229908   \n",
       "\n",
       "   ccr_tot_mounth_amt  ccr_payed_loan_tot_amt  ccr_act_loan_tot_rest_amt  \\\n",
       "0           63.301509                0.000000                 168.928244   \n",
       "1           46.914918            12824.121594                1168.763167   \n",
       "2            9.626135             5874.631144                 345.921464   \n",
       "3            0.000000             6897.890318                   0.000000   \n",
       "4           16.979558             2100.455986                   0.000000   \n",
       "\n",
       "   loan_status  \n",
       "0            0  \n",
       "1            1  \n",
       "2            1  \n",
       "3            0  \n",
       "4            0  "
      ]
     },
     "execution_count": 3,
     "metadata": {},
     "output_type": "execute_result"
    }
   ],
   "source": [
    "# Check df\n",
    "raw_train.head()"
   ]
  },
  {
   "cell_type": "code",
   "execution_count": 4,
   "id": "9320ab1e-7593-48c6-9790-b219bc897cdf",
   "metadata": {},
   "outputs": [
    {
     "data": {
      "text/plain": [
       "(13852, 20)"
      ]
     },
     "execution_count": 4,
     "metadata": {},
     "output_type": "execute_result"
    }
   ],
   "source": [
    "# Check shape\n",
    "raw_train.shape"
   ]
  },
  {
   "cell_type": "code",
   "execution_count": 5,
   "id": "0ff86b19-3dff-4018-b492-2513f5507296",
   "metadata": {},
   "outputs": [
    {
     "data": {
      "text/plain": [
       "customer_id                  13852\n",
       "rate                         13852\n",
       "amount                       11837\n",
       "purpose                          2\n",
       "period                          54\n",
       "cus_age                         59\n",
       "gender                           2\n",
       "education_level                  2\n",
       "marital_status                   2\n",
       "has_children                     2\n",
       "living_situation                 2\n",
       "total_experience               404\n",
       "income                       13311\n",
       "job_sector                       2\n",
       "DTI                          13843\n",
       "APR                          13852\n",
       "ccr_tot_mounth_amt           11008\n",
       "ccr_payed_loan_tot_amt       10855\n",
       "ccr_act_loan_tot_rest_amt    10281\n",
       "loan_status                      2\n",
       "dtype: int64"
      ]
     },
     "execution_count": 5,
     "metadata": {},
     "output_type": "execute_result"
    }
   ],
   "source": [
    "# Check number of unique values in the columns\n",
    "raw_train.nunique()"
   ]
  },
  {
   "cell_type": "code",
   "execution_count": 6,
   "id": "12f91316-190f-41dc-be1c-ef72c1410f53",
   "metadata": {},
   "outputs": [],
   "source": [
    "# Copying datasets.\n",
    "train_df = raw_train.copy()\n",
    "test_df = raw_test.copy()"
   ]
  },
  {
   "cell_type": "code",
   "execution_count": 7,
   "id": "b8cb2c0f-8b6d-4072-aa7f-96536f6636e3",
   "metadata": {},
   "outputs": [
    {
     "name": "stdout",
     "output_type": "stream",
     "text": [
      "<class 'pandas.core.frame.DataFrame'>\n",
      "RangeIndex: 13852 entries, 0 to 13851\n",
      "Data columns (total 20 columns):\n",
      " #   Column                     Non-Null Count  Dtype  \n",
      "---  ------                     --------------  -----  \n",
      " 0   customer_id                13852 non-null  int64  \n",
      " 1   rate                       13852 non-null  float64\n",
      " 2   amount                     12460 non-null  float64\n",
      " 3   purpose                    13852 non-null  object \n",
      " 4   period                     13852 non-null  int64  \n",
      " 5   cus_age                    13852 non-null  int64  \n",
      " 6   gender                     13852 non-null  object \n",
      " 7   education_level            13852 non-null  object \n",
      " 8   marital_status             12523 non-null  object \n",
      " 9   has_children               13852 non-null  object \n",
      " 10  living_situation           13852 non-null  object \n",
      " 11  total_experience           13852 non-null  int64  \n",
      " 12  income                     13852 non-null  float64\n",
      " 13  job_sector                 12466 non-null  object \n",
      " 14  DTI                        13852 non-null  float64\n",
      " 15  APR                        13852 non-null  float64\n",
      " 16  ccr_tot_mounth_amt         13852 non-null  float64\n",
      " 17  ccr_payed_loan_tot_amt     13852 non-null  float64\n",
      " 18  ccr_act_loan_tot_rest_amt  13852 non-null  float64\n",
      " 19  loan_status                13852 non-null  int64  \n",
      "dtypes: float64(8), int64(5), object(7)\n",
      "memory usage: 2.1+ MB\n"
     ]
    }
   ],
   "source": [
    "# Check general information about dataset.\n",
    "train_df.info()"
   ]
  },
  {
   "cell_type": "code",
   "execution_count": 8,
   "id": "748455d0-5d1b-4412-9451-c25c206331e9",
   "metadata": {},
   "outputs": [
    {
     "name": "stdout",
     "output_type": "stream",
     "text": [
      "<class 'pandas.core.frame.DataFrame'>\n",
      "RangeIndex: 3464 entries, 0 to 3463\n",
      "Data columns (total 19 columns):\n",
      " #   Column                     Non-Null Count  Dtype  \n",
      "---  ------                     --------------  -----  \n",
      " 0   customer_id                3464 non-null   int64  \n",
      " 1   rate                       3464 non-null   float64\n",
      " 2   amount                     3125 non-null   float64\n",
      " 3   purpose                    3464 non-null   object \n",
      " 4   period                     3464 non-null   int64  \n",
      " 5   cus_age                    3464 non-null   int64  \n",
      " 6   gender                     3464 non-null   object \n",
      " 7   education_level            3464 non-null   object \n",
      " 8   marital_status             3106 non-null   object \n",
      " 9   has_children               3464 non-null   object \n",
      " 10  living_situation           3464 non-null   object \n",
      " 11  total_experience           3464 non-null   int64  \n",
      " 12  income                     3464 non-null   float64\n",
      " 13  job_sector                 3102 non-null   object \n",
      " 14  DTI                        3464 non-null   float64\n",
      " 15  APR                        3464 non-null   float64\n",
      " 16  ccr_tot_mounth_amt         3464 non-null   float64\n",
      " 17  ccr_payed_loan_tot_amt     3464 non-null   float64\n",
      " 18  ccr_act_loan_tot_rest_amt  3464 non-null   float64\n",
      "dtypes: float64(8), int64(4), object(7)\n",
      "memory usage: 514.3+ KB\n"
     ]
    }
   ],
   "source": [
    "# loan_status column is the target column and missing in the test data.\n",
    "# So we can use this test data only for generating the prediction.\n",
    "test_df.info()"
   ]
  },
  {
   "cell_type": "code",
   "execution_count": 9,
   "id": "48de284b-49ae-484f-b477-dd25eb2b4362",
   "metadata": {},
   "outputs": [],
   "source": [
    "# To continue the preprocessing we will separate loan_status column from the train_df dataframe.\n",
    "train_y = train_df[\"loan_status\"].copy()"
   ]
  },
  {
   "cell_type": "code",
   "execution_count": 10,
   "id": "63300074-12ca-483d-b725-b9cb968e7409",
   "metadata": {},
   "outputs": [],
   "source": [
    "# Let's drop loan_status column.\n",
    "train_df.drop(columns=[\"loan_status\"], inplace = True)"
   ]
  },
  {
   "cell_type": "code",
   "execution_count": 11,
   "id": "27d38d22-2bfe-46c0-b666-7f710eb64597",
   "metadata": {},
   "outputs": [
    {
     "name": "stdout",
     "output_type": "stream",
     "text": [
      "<class 'pandas.core.frame.DataFrame'>\n",
      "RangeIndex: 13852 entries, 0 to 13851\n",
      "Data columns (total 19 columns):\n",
      " #   Column                     Non-Null Count  Dtype  \n",
      "---  ------                     --------------  -----  \n",
      " 0   customer_id                13852 non-null  int64  \n",
      " 1   rate                       13852 non-null  float64\n",
      " 2   amount                     12460 non-null  float64\n",
      " 3   purpose                    13852 non-null  object \n",
      " 4   period                     13852 non-null  int64  \n",
      " 5   cus_age                    13852 non-null  int64  \n",
      " 6   gender                     13852 non-null  object \n",
      " 7   education_level            13852 non-null  object \n",
      " 8   marital_status             12523 non-null  object \n",
      " 9   has_children               13852 non-null  object \n",
      " 10  living_situation           13852 non-null  object \n",
      " 11  total_experience           13852 non-null  int64  \n",
      " 12  income                     13852 non-null  float64\n",
      " 13  job_sector                 12466 non-null  object \n",
      " 14  DTI                        13852 non-null  float64\n",
      " 15  APR                        13852 non-null  float64\n",
      " 16  ccr_tot_mounth_amt         13852 non-null  float64\n",
      " 17  ccr_payed_loan_tot_amt     13852 non-null  float64\n",
      " 18  ccr_act_loan_tot_rest_amt  13852 non-null  float64\n",
      "dtypes: float64(8), int64(4), object(7)\n",
      "memory usage: 2.0+ MB\n"
     ]
    }
   ],
   "source": [
    "# Let's validate.\n",
    "# train_df and test_df both are now in sync.\n",
    "train_df.info()"
   ]
  },
  {
   "cell_type": "code",
   "execution_count": 12,
   "id": "c063e026-3e6e-47d3-906e-c4d2e874bbdb",
   "metadata": {},
   "outputs": [],
   "source": [
    "# Dropping the unnecessary columns\n",
    "train_df.drop(columns=\"customer_id\", inplace = True)\n",
    "test_df.drop(columns=\"customer_id\", inplace = True)"
   ]
  },
  {
   "cell_type": "code",
   "execution_count": 13,
   "id": "d265f2f4-38d0-4535-a7f0-5a92a9f82b88",
   "metadata": {},
   "outputs": [
    {
     "data": {
      "text/plain": [
       "Index(['rate', 'amount', 'purpose', 'period', 'cus_age', 'gender',\n",
       "       'education_level', 'marital_status', 'has_children', 'living_situation',\n",
       "       'total_experience', 'income', 'job_sector', 'DTI', 'APR',\n",
       "       'ccr_tot_mounth_amt', 'ccr_payed_loan_tot_amt',\n",
       "       'ccr_act_loan_tot_rest_amt'],\n",
       "      dtype='object')"
      ]
     },
     "execution_count": 13,
     "metadata": {},
     "output_type": "execute_result"
    }
   ],
   "source": [
    "# Check columns in train_df\n",
    "train_df.columns"
   ]
  },
  {
   "cell_type": "code",
   "execution_count": 14,
   "id": "6ef3e37e-a580-46c8-b2ba-09a67da87215",
   "metadata": {},
   "outputs": [
    {
     "data": {
      "text/html": [
       "<div>\n",
       "<style scoped>\n",
       "    .dataframe tbody tr th:only-of-type {\n",
       "        vertical-align: middle;\n",
       "    }\n",
       "\n",
       "    .dataframe tbody tr th {\n",
       "        vertical-align: top;\n",
       "    }\n",
       "\n",
       "    .dataframe thead th {\n",
       "        text-align: right;\n",
       "    }\n",
       "</style>\n",
       "<table border=\"1\" class=\"dataframe\">\n",
       "  <thead>\n",
       "    <tr style=\"text-align: right;\">\n",
       "      <th></th>\n",
       "      <th>rate</th>\n",
       "      <th>amount</th>\n",
       "      <th>purpose</th>\n",
       "      <th>period</th>\n",
       "      <th>cus_age</th>\n",
       "      <th>gender</th>\n",
       "      <th>education_level</th>\n",
       "      <th>marital_status</th>\n",
       "      <th>has_children</th>\n",
       "      <th>living_situation</th>\n",
       "      <th>total_experience</th>\n",
       "      <th>income</th>\n",
       "      <th>job_sector</th>\n",
       "      <th>DTI</th>\n",
       "      <th>APR</th>\n",
       "      <th>ccr_tot_mounth_amt</th>\n",
       "      <th>ccr_payed_loan_tot_amt</th>\n",
       "      <th>ccr_act_loan_tot_rest_amt</th>\n",
       "    </tr>\n",
       "  </thead>\n",
       "  <tbody>\n",
       "  </tbody>\n",
       "</table>\n",
       "</div>"
      ],
      "text/plain": [
       "Empty DataFrame\n",
       "Columns: [rate, amount, purpose, period, cus_age, gender, education_level, marital_status, has_children, living_situation, total_experience, income, job_sector, DTI, APR, ccr_tot_mounth_amt, ccr_payed_loan_tot_amt, ccr_act_loan_tot_rest_amt]\n",
       "Index: []"
      ]
     },
     "execution_count": 14,
     "metadata": {},
     "output_type": "execute_result"
    }
   ],
   "source": [
    "# Let's check duplicates.\n",
    "# There are no duplicates.\n",
    "train_df[train_df.duplicated()]"
   ]
  },
  {
   "cell_type": "code",
   "execution_count": 15,
   "id": "682034ed-b80f-4a00-baee-f8f20fb2bde4",
   "metadata": {},
   "outputs": [
    {
     "data": {
      "text/html": [
       "<div>\n",
       "<style scoped>\n",
       "    .dataframe tbody tr th:only-of-type {\n",
       "        vertical-align: middle;\n",
       "    }\n",
       "\n",
       "    .dataframe tbody tr th {\n",
       "        vertical-align: top;\n",
       "    }\n",
       "\n",
       "    .dataframe thead th {\n",
       "        text-align: right;\n",
       "    }\n",
       "</style>\n",
       "<table border=\"1\" class=\"dataframe\">\n",
       "  <thead>\n",
       "    <tr style=\"text-align: right;\">\n",
       "      <th></th>\n",
       "      <th>rate</th>\n",
       "      <th>amount</th>\n",
       "      <th>purpose</th>\n",
       "      <th>period</th>\n",
       "      <th>cus_age</th>\n",
       "      <th>gender</th>\n",
       "      <th>education_level</th>\n",
       "      <th>marital_status</th>\n",
       "      <th>has_children</th>\n",
       "      <th>living_situation</th>\n",
       "      <th>total_experience</th>\n",
       "      <th>income</th>\n",
       "      <th>job_sector</th>\n",
       "      <th>DTI</th>\n",
       "      <th>APR</th>\n",
       "      <th>ccr_tot_mounth_amt</th>\n",
       "      <th>ccr_payed_loan_tot_amt</th>\n",
       "      <th>ccr_act_loan_tot_rest_amt</th>\n",
       "    </tr>\n",
       "  </thead>\n",
       "  <tbody>\n",
       "  </tbody>\n",
       "</table>\n",
       "</div>"
      ],
      "text/plain": [
       "Empty DataFrame\n",
       "Columns: [rate, amount, purpose, period, cus_age, gender, education_level, marital_status, has_children, living_situation, total_experience, income, job_sector, DTI, APR, ccr_tot_mounth_amt, ccr_payed_loan_tot_amt, ccr_act_loan_tot_rest_amt]\n",
       "Index: []"
      ]
     },
     "execution_count": 15,
     "metadata": {},
     "output_type": "execute_result"
    }
   ],
   "source": [
    "test_df[test_df.duplicated()]"
   ]
  },
  {
   "cell_type": "code",
   "execution_count": 16,
   "id": "0e14c2d9-9324-47ec-8197-1c7cd623fafe",
   "metadata": {},
   "outputs": [
    {
     "data": {
      "text/plain": [
       "rate                            0\n",
       "amount                       1392\n",
       "purpose                         0\n",
       "period                          0\n",
       "cus_age                         0\n",
       "gender                          0\n",
       "education_level                 0\n",
       "marital_status               1329\n",
       "has_children                    0\n",
       "living_situation                0\n",
       "total_experience                0\n",
       "income                          0\n",
       "job_sector                   1386\n",
       "DTI                             0\n",
       "APR                             0\n",
       "ccr_tot_mounth_amt              0\n",
       "ccr_payed_loan_tot_amt          0\n",
       "ccr_act_loan_tot_rest_amt       0\n",
       "dtype: int64"
      ]
     },
     "execution_count": 16,
     "metadata": {},
     "output_type": "execute_result"
    }
   ],
   "source": [
    "# Missing Values Analysis.\n",
    "train_df.isna().sum()"
   ]
  },
  {
   "cell_type": "code",
   "execution_count": 17,
   "id": "22538a4f-6c15-4af6-9493-b03e8fec5dcb",
   "metadata": {},
   "outputs": [],
   "source": [
    "# Let's impute missing values.\n",
    "# Numeric --> mean\n",
    "# Categorical --> mode\n",
    "\n",
    "num_cols = [\"rate\", \"amount\", \"period\", \"cus_age\", \"total_experience\", \"ccr_act_loan_tot_rest_amt\",\n",
    "            \"income\", \"DTI\", \"APR\", \"ccr_tot_mounth_amt\", \"ccr_payed_loan_tot_amt\"]\n",
    "\n",
    "cat_cols = [\"purpose\", \"gender\", \"education_level\", \"marital_status\", \"has_children\", \"living_situation\", \"job_sector\"]"
   ]
  },
  {
   "cell_type": "code",
   "execution_count": 18,
   "id": "0b315f39-13b0-46e7-84d8-61a14c7268dc",
   "metadata": {},
   "outputs": [],
   "source": [
    "# Let's impute categorical columns.\n",
    "cat_imputer = SimpleImputer(strategy=\"most_frequent\")\n",
    "cat_imputer.fit(train_df[cat_cols])\n",
    "\n",
    "train_df[cat_cols] = cat_imputer.transform(train_df[cat_cols])\n",
    "test_df[cat_cols] = cat_imputer.transform(test_df[cat_cols])"
   ]
  },
  {
   "cell_type": "code",
   "execution_count": 19,
   "id": "abf8514a-3720-4123-9550-3aa61cb7ab0e",
   "metadata": {},
   "outputs": [],
   "source": [
    "# Let's impute numerical columns.\n",
    "num_imputer = SimpleImputer(strategy=\"mean\")\n",
    "num_imputer.fit(train_df[num_cols])\n",
    "\n",
    "train_df[num_cols] = num_imputer.transform(train_df[num_cols])\n",
    "test_df[num_cols] = num_imputer.transform(test_df[num_cols])"
   ]
  },
  {
   "cell_type": "code",
   "execution_count": 20,
   "id": "efc706b2-6b83-4e62-8614-bcf1f811c615",
   "metadata": {},
   "outputs": [
    {
     "data": {
      "text/plain": [
       "rate                         0\n",
       "amount                       0\n",
       "purpose                      0\n",
       "period                       0\n",
       "cus_age                      0\n",
       "gender                       0\n",
       "education_level              0\n",
       "marital_status               0\n",
       "has_children                 0\n",
       "living_situation             0\n",
       "total_experience             0\n",
       "income                       0\n",
       "job_sector                   0\n",
       "DTI                          0\n",
       "APR                          0\n",
       "ccr_tot_mounth_amt           0\n",
       "ccr_payed_loan_tot_amt       0\n",
       "ccr_act_loan_tot_rest_amt    0\n",
       "dtype: int64"
      ]
     },
     "execution_count": 20,
     "metadata": {},
     "output_type": "execute_result"
    }
   ],
   "source": [
    "# Recheck missing values.\n",
    "train_df.isna().sum()"
   ]
  },
  {
   "cell_type": "code",
   "execution_count": 21,
   "id": "f9ed60c9-dc5b-4566-bc5f-269f17b3dcc8",
   "metadata": {},
   "outputs": [],
   "source": [
    "# Let's apply simple feature engineering\n",
    "# Convert monthly income to annual income\n",
    "train_df[\"annual_income\"] = train_df[\"income\"] * 12\n",
    "test_df[\"annual_income\"] = test_df[\"income\"] * 12\n",
    "\n",
    "# Creating Income to Loan Amount ratio column\n",
    "train_df[\"income_to_loan_ratio\"] = train_df[\"annual_income\"] / train_df[\"amount\"]\n",
    "test_df[\"income_to_loan_ratio\"] = test_df[\"annual_income\"] / test_df[\"amount\"]\n",
    "\n",
    "# We'll just use annual income, so let's drop income column.\n",
    "train_df.drop(columns=\"income\", inplace = True)\n",
    "test_df.drop(columns=\"income\", inplace = True)"
   ]
  },
  {
   "cell_type": "code",
   "execution_count": 22,
   "id": "f58e2434-716e-45a8-8e78-e0f1d31e94d0",
   "metadata": {},
   "outputs": [
    {
     "data": {
      "text/html": [
       "<div>\n",
       "<style scoped>\n",
       "    .dataframe tbody tr th:only-of-type {\n",
       "        vertical-align: middle;\n",
       "    }\n",
       "\n",
       "    .dataframe tbody tr th {\n",
       "        vertical-align: top;\n",
       "    }\n",
       "\n",
       "    .dataframe thead th {\n",
       "        text-align: right;\n",
       "    }\n",
       "</style>\n",
       "<table border=\"1\" class=\"dataframe\">\n",
       "  <thead>\n",
       "    <tr style=\"text-align: right;\">\n",
       "      <th></th>\n",
       "      <th>rate</th>\n",
       "      <th>amount</th>\n",
       "      <th>purpose</th>\n",
       "      <th>period</th>\n",
       "      <th>cus_age</th>\n",
       "      <th>gender</th>\n",
       "      <th>education_level</th>\n",
       "      <th>marital_status</th>\n",
       "      <th>has_children</th>\n",
       "      <th>living_situation</th>\n",
       "      <th>total_experience</th>\n",
       "      <th>job_sector</th>\n",
       "      <th>DTI</th>\n",
       "      <th>APR</th>\n",
       "      <th>ccr_tot_mounth_amt</th>\n",
       "      <th>ccr_payed_loan_tot_amt</th>\n",
       "      <th>ccr_act_loan_tot_rest_amt</th>\n",
       "      <th>annual_income</th>\n",
       "      <th>income_to_loan_ratio</th>\n",
       "    </tr>\n",
       "  </thead>\n",
       "  <tbody>\n",
       "    <tr>\n",
       "      <th>0</th>\n",
       "      <td>20.506515</td>\n",
       "      <td>4835.783206</td>\n",
       "      <td>Personal</td>\n",
       "      <td>11.0</td>\n",
       "      <td>35.0</td>\n",
       "      <td>Female</td>\n",
       "      <td>Educated</td>\n",
       "      <td>Single</td>\n",
       "      <td>Yes</td>\n",
       "      <td>Dependent</td>\n",
       "      <td>137.0</td>\n",
       "      <td>Public</td>\n",
       "      <td>31.798407</td>\n",
       "      <td>19.605675</td>\n",
       "      <td>63.301509</td>\n",
       "      <td>0.000000</td>\n",
       "      <td>168.928244</td>\n",
       "      <td>12759.134020</td>\n",
       "      <td>2.638483</td>\n",
       "    </tr>\n",
       "    <tr>\n",
       "      <th>1</th>\n",
       "      <td>19.468150</td>\n",
       "      <td>5043.251855</td>\n",
       "      <td>Personal</td>\n",
       "      <td>8.0</td>\n",
       "      <td>43.0</td>\n",
       "      <td>Male</td>\n",
       "      <td>Educated</td>\n",
       "      <td>Single</td>\n",
       "      <td>Yes</td>\n",
       "      <td>Independent</td>\n",
       "      <td>184.0</td>\n",
       "      <td>Public</td>\n",
       "      <td>41.770757</td>\n",
       "      <td>30.610585</td>\n",
       "      <td>46.914918</td>\n",
       "      <td>12824.121594</td>\n",
       "      <td>1168.763167</td>\n",
       "      <td>1988.684268</td>\n",
       "      <td>0.394326</td>\n",
       "    </tr>\n",
       "    <tr>\n",
       "      <th>2</th>\n",
       "      <td>19.825773</td>\n",
       "      <td>4110.494869</td>\n",
       "      <td>Maintenance</td>\n",
       "      <td>17.0</td>\n",
       "      <td>39.0</td>\n",
       "      <td>Female</td>\n",
       "      <td>Unknown/Other</td>\n",
       "      <td>Single</td>\n",
       "      <td>No</td>\n",
       "      <td>Dependent</td>\n",
       "      <td>0.0</td>\n",
       "      <td>Private</td>\n",
       "      <td>35.620239</td>\n",
       "      <td>19.827671</td>\n",
       "      <td>9.626135</td>\n",
       "      <td>5874.631144</td>\n",
       "      <td>345.921464</td>\n",
       "      <td>1046.223771</td>\n",
       "      <td>0.254525</td>\n",
       "    </tr>\n",
       "    <tr>\n",
       "      <th>3</th>\n",
       "      <td>19.112241</td>\n",
       "      <td>3977.846540</td>\n",
       "      <td>Personal</td>\n",
       "      <td>31.0</td>\n",
       "      <td>33.0</td>\n",
       "      <td>Female</td>\n",
       "      <td>Unknown/Other</td>\n",
       "      <td>Single</td>\n",
       "      <td>No</td>\n",
       "      <td>Dependent</td>\n",
       "      <td>65.0</td>\n",
       "      <td>Private</td>\n",
       "      <td>31.287542</td>\n",
       "      <td>21.566299</td>\n",
       "      <td>0.000000</td>\n",
       "      <td>6897.890318</td>\n",
       "      <td>0.000000</td>\n",
       "      <td>8725.591215</td>\n",
       "      <td>2.193546</td>\n",
       "    </tr>\n",
       "    <tr>\n",
       "      <th>4</th>\n",
       "      <td>19.995923</td>\n",
       "      <td>3864.356200</td>\n",
       "      <td>Maintenance</td>\n",
       "      <td>12.0</td>\n",
       "      <td>26.0</td>\n",
       "      <td>Male</td>\n",
       "      <td>Unknown/Other</td>\n",
       "      <td>Married</td>\n",
       "      <td>Yes</td>\n",
       "      <td>Dependent</td>\n",
       "      <td>107.0</td>\n",
       "      <td>Private</td>\n",
       "      <td>27.803383</td>\n",
       "      <td>21.229908</td>\n",
       "      <td>16.979558</td>\n",
       "      <td>2100.455986</td>\n",
       "      <td>0.000000</td>\n",
       "      <td>18090.104336</td>\n",
       "      <td>4.681272</td>\n",
       "    </tr>\n",
       "  </tbody>\n",
       "</table>\n",
       "</div>"
      ],
      "text/plain": [
       "        rate       amount      purpose  period  cus_age  gender  \\\n",
       "0  20.506515  4835.783206     Personal    11.0     35.0  Female   \n",
       "1  19.468150  5043.251855     Personal     8.0     43.0    Male   \n",
       "2  19.825773  4110.494869  Maintenance    17.0     39.0  Female   \n",
       "3  19.112241  3977.846540     Personal    31.0     33.0  Female   \n",
       "4  19.995923  3864.356200  Maintenance    12.0     26.0    Male   \n",
       "\n",
       "  education_level marital_status has_children living_situation  \\\n",
       "0        Educated         Single          Yes        Dependent   \n",
       "1        Educated         Single          Yes      Independent   \n",
       "2   Unknown/Other         Single           No        Dependent   \n",
       "3   Unknown/Other         Single           No        Dependent   \n",
       "4   Unknown/Other        Married          Yes        Dependent   \n",
       "\n",
       "   total_experience job_sector        DTI        APR  ccr_tot_mounth_amt  \\\n",
       "0             137.0     Public  31.798407  19.605675           63.301509   \n",
       "1             184.0     Public  41.770757  30.610585           46.914918   \n",
       "2               0.0    Private  35.620239  19.827671            9.626135   \n",
       "3              65.0    Private  31.287542  21.566299            0.000000   \n",
       "4             107.0    Private  27.803383  21.229908           16.979558   \n",
       "\n",
       "   ccr_payed_loan_tot_amt  ccr_act_loan_tot_rest_amt  annual_income  \\\n",
       "0                0.000000                 168.928244   12759.134020   \n",
       "1            12824.121594                1168.763167    1988.684268   \n",
       "2             5874.631144                 345.921464    1046.223771   \n",
       "3             6897.890318                   0.000000    8725.591215   \n",
       "4             2100.455986                   0.000000   18090.104336   \n",
       "\n",
       "   income_to_loan_ratio  \n",
       "0              2.638483  \n",
       "1              0.394326  \n",
       "2              0.254525  \n",
       "3              2.193546  \n",
       "4              4.681272  "
      ]
     },
     "execution_count": 22,
     "metadata": {},
     "output_type": "execute_result"
    }
   ],
   "source": [
    "# Let's check train_df\n",
    "train_df.head()"
   ]
  },
  {
   "cell_type": "code",
   "execution_count": 23,
   "id": "6b0a83ed-66a5-4519-89b2-0a8025c74128",
   "metadata": {},
   "outputs": [],
   "source": [
    "# Application of Label Encoder"
   ]
  },
  {
   "cell_type": "markdown",
   "id": "1af62424-a646-435c-a435-73df9629e58e",
   "metadata": {},
   "source": [
    "* Each of the categorical column has two unique values, so we can safely apply just label encoder, otherwise we should consider using one-hot encoding to maintain data integrity and prevent unintended ordinality or bias."
   ]
  },
  {
   "cell_type": "code",
   "execution_count": 24,
   "id": "55939645-1379-4ed3-a4bb-fd39e7e116eb",
   "metadata": {},
   "outputs": [],
   "source": [
    "for col in cat_cols:\n",
    "    le = LabelEncoder()\n",
    "    train_df[col] = le.fit_transform(train_df[col])\n",
    "    test_df[col] = le.transform(test_df[col])"
   ]
  },
  {
   "cell_type": "code",
   "execution_count": 25,
   "id": "911efc9a-b485-450e-a1bd-82af26c883f0",
   "metadata": {},
   "outputs": [
    {
     "data": {
      "text/html": [
       "<div>\n",
       "<style scoped>\n",
       "    .dataframe tbody tr th:only-of-type {\n",
       "        vertical-align: middle;\n",
       "    }\n",
       "\n",
       "    .dataframe tbody tr th {\n",
       "        vertical-align: top;\n",
       "    }\n",
       "\n",
       "    .dataframe thead th {\n",
       "        text-align: right;\n",
       "    }\n",
       "</style>\n",
       "<table border=\"1\" class=\"dataframe\">\n",
       "  <thead>\n",
       "    <tr style=\"text-align: right;\">\n",
       "      <th></th>\n",
       "      <th>rate</th>\n",
       "      <th>amount</th>\n",
       "      <th>purpose</th>\n",
       "      <th>period</th>\n",
       "      <th>cus_age</th>\n",
       "      <th>gender</th>\n",
       "      <th>education_level</th>\n",
       "      <th>marital_status</th>\n",
       "      <th>has_children</th>\n",
       "      <th>living_situation</th>\n",
       "      <th>total_experience</th>\n",
       "      <th>job_sector</th>\n",
       "      <th>DTI</th>\n",
       "      <th>APR</th>\n",
       "      <th>ccr_tot_mounth_amt</th>\n",
       "      <th>ccr_payed_loan_tot_amt</th>\n",
       "      <th>ccr_act_loan_tot_rest_amt</th>\n",
       "      <th>annual_income</th>\n",
       "      <th>income_to_loan_ratio</th>\n",
       "    </tr>\n",
       "  </thead>\n",
       "  <tbody>\n",
       "    <tr>\n",
       "      <th>0</th>\n",
       "      <td>20.506515</td>\n",
       "      <td>4835.783206</td>\n",
       "      <td>1</td>\n",
       "      <td>11.0</td>\n",
       "      <td>35.0</td>\n",
       "      <td>0</td>\n",
       "      <td>0</td>\n",
       "      <td>1</td>\n",
       "      <td>1</td>\n",
       "      <td>0</td>\n",
       "      <td>137.0</td>\n",
       "      <td>1</td>\n",
       "      <td>31.798407</td>\n",
       "      <td>19.605675</td>\n",
       "      <td>63.301509</td>\n",
       "      <td>0.000000</td>\n",
       "      <td>168.928244</td>\n",
       "      <td>12759.134020</td>\n",
       "      <td>2.638483</td>\n",
       "    </tr>\n",
       "    <tr>\n",
       "      <th>1</th>\n",
       "      <td>19.468150</td>\n",
       "      <td>5043.251855</td>\n",
       "      <td>1</td>\n",
       "      <td>8.0</td>\n",
       "      <td>43.0</td>\n",
       "      <td>1</td>\n",
       "      <td>0</td>\n",
       "      <td>1</td>\n",
       "      <td>1</td>\n",
       "      <td>1</td>\n",
       "      <td>184.0</td>\n",
       "      <td>1</td>\n",
       "      <td>41.770757</td>\n",
       "      <td>30.610585</td>\n",
       "      <td>46.914918</td>\n",
       "      <td>12824.121594</td>\n",
       "      <td>1168.763167</td>\n",
       "      <td>1988.684268</td>\n",
       "      <td>0.394326</td>\n",
       "    </tr>\n",
       "    <tr>\n",
       "      <th>2</th>\n",
       "      <td>19.825773</td>\n",
       "      <td>4110.494869</td>\n",
       "      <td>0</td>\n",
       "      <td>17.0</td>\n",
       "      <td>39.0</td>\n",
       "      <td>0</td>\n",
       "      <td>1</td>\n",
       "      <td>1</td>\n",
       "      <td>0</td>\n",
       "      <td>0</td>\n",
       "      <td>0.0</td>\n",
       "      <td>0</td>\n",
       "      <td>35.620239</td>\n",
       "      <td>19.827671</td>\n",
       "      <td>9.626135</td>\n",
       "      <td>5874.631144</td>\n",
       "      <td>345.921464</td>\n",
       "      <td>1046.223771</td>\n",
       "      <td>0.254525</td>\n",
       "    </tr>\n",
       "    <tr>\n",
       "      <th>3</th>\n",
       "      <td>19.112241</td>\n",
       "      <td>3977.846540</td>\n",
       "      <td>1</td>\n",
       "      <td>31.0</td>\n",
       "      <td>33.0</td>\n",
       "      <td>0</td>\n",
       "      <td>1</td>\n",
       "      <td>1</td>\n",
       "      <td>0</td>\n",
       "      <td>0</td>\n",
       "      <td>65.0</td>\n",
       "      <td>0</td>\n",
       "      <td>31.287542</td>\n",
       "      <td>21.566299</td>\n",
       "      <td>0.000000</td>\n",
       "      <td>6897.890318</td>\n",
       "      <td>0.000000</td>\n",
       "      <td>8725.591215</td>\n",
       "      <td>2.193546</td>\n",
       "    </tr>\n",
       "    <tr>\n",
       "      <th>4</th>\n",
       "      <td>19.995923</td>\n",
       "      <td>3864.356200</td>\n",
       "      <td>0</td>\n",
       "      <td>12.0</td>\n",
       "      <td>26.0</td>\n",
       "      <td>1</td>\n",
       "      <td>1</td>\n",
       "      <td>0</td>\n",
       "      <td>1</td>\n",
       "      <td>0</td>\n",
       "      <td>107.0</td>\n",
       "      <td>0</td>\n",
       "      <td>27.803383</td>\n",
       "      <td>21.229908</td>\n",
       "      <td>16.979558</td>\n",
       "      <td>2100.455986</td>\n",
       "      <td>0.000000</td>\n",
       "      <td>18090.104336</td>\n",
       "      <td>4.681272</td>\n",
       "    </tr>\n",
       "  </tbody>\n",
       "</table>\n",
       "</div>"
      ],
      "text/plain": [
       "        rate       amount  purpose  period  cus_age  gender  education_level  \\\n",
       "0  20.506515  4835.783206        1    11.0     35.0       0                0   \n",
       "1  19.468150  5043.251855        1     8.0     43.0       1                0   \n",
       "2  19.825773  4110.494869        0    17.0     39.0       0                1   \n",
       "3  19.112241  3977.846540        1    31.0     33.0       0                1   \n",
       "4  19.995923  3864.356200        0    12.0     26.0       1                1   \n",
       "\n",
       "   marital_status  has_children  living_situation  total_experience  \\\n",
       "0               1             1                 0             137.0   \n",
       "1               1             1                 1             184.0   \n",
       "2               1             0                 0               0.0   \n",
       "3               1             0                 0              65.0   \n",
       "4               0             1                 0             107.0   \n",
       "\n",
       "   job_sector        DTI        APR  ccr_tot_mounth_amt  \\\n",
       "0           1  31.798407  19.605675           63.301509   \n",
       "1           1  41.770757  30.610585           46.914918   \n",
       "2           0  35.620239  19.827671            9.626135   \n",
       "3           0  31.287542  21.566299            0.000000   \n",
       "4           0  27.803383  21.229908           16.979558   \n",
       "\n",
       "   ccr_payed_loan_tot_amt  ccr_act_loan_tot_rest_amt  annual_income  \\\n",
       "0                0.000000                 168.928244   12759.134020   \n",
       "1            12824.121594                1168.763167    1988.684268   \n",
       "2             5874.631144                 345.921464    1046.223771   \n",
       "3             6897.890318                   0.000000    8725.591215   \n",
       "4             2100.455986                   0.000000   18090.104336   \n",
       "\n",
       "   income_to_loan_ratio  \n",
       "0              2.638483  \n",
       "1              0.394326  \n",
       "2              0.254525  \n",
       "3              2.193546  \n",
       "4              4.681272  "
      ]
     },
     "execution_count": 25,
     "metadata": {},
     "output_type": "execute_result"
    }
   ],
   "source": [
    "# Let's check train_df\n",
    "train_df.head()"
   ]
  },
  {
   "cell_type": "code",
   "execution_count": 26,
   "id": "14aeb3e7-3d9a-4d99-a91a-765cb42817c7",
   "metadata": {},
   "outputs": [],
   "source": [
    "# Change numerical columns list\n",
    "num_cols.append(\"annual_income\")\n",
    "num_cols.append(\"income_to_loan_ratio\")\n",
    "num_cols.remove(\"income\")"
   ]
  },
  {
   "cell_type": "code",
   "execution_count": 27,
   "id": "c98cb91a-aa6c-4d98-ae4e-6eca58e138d7",
   "metadata": {},
   "outputs": [
    {
     "data": {
      "text/plain": [
       "['rate',\n",
       " 'amount',\n",
       " 'period',\n",
       " 'cus_age',\n",
       " 'total_experience',\n",
       " 'ccr_act_loan_tot_rest_amt',\n",
       " 'DTI',\n",
       " 'APR',\n",
       " 'ccr_tot_mounth_amt',\n",
       " 'ccr_payed_loan_tot_amt',\n",
       " 'annual_income',\n",
       " 'income_to_loan_ratio']"
      ]
     },
     "execution_count": 27,
     "metadata": {},
     "output_type": "execute_result"
    }
   ],
   "source": [
    "num_cols"
   ]
  },
  {
   "cell_type": "code",
   "execution_count": 28,
   "id": "3036aac4-e577-4e87-83b5-0fd2f445b98a",
   "metadata": {},
   "outputs": [],
   "source": [
    "# Apply log transofmation on numerical columns\n",
    "# Adding a small constant to avoid log(0)\n",
    "constant = 1e-6\n",
    "# Applying log transformation with added constant for safety\n",
    "train_df[num_cols] = np.log(train_df[num_cols] + constant)\n",
    "test_df[num_cols] = np.log(test_df[num_cols] + constant)"
   ]
  },
  {
   "cell_type": "code",
   "execution_count": 29,
   "id": "6fc9ad99-e21d-4e19-b81b-0fe90f4e2c18",
   "metadata": {},
   "outputs": [],
   "source": [
    "# Applying MinMax Scaling\n",
    "sc = StandardScaler()\n",
    "train_df = sc.fit_transform(train_df)\n",
    "test_df = sc.transform(test_df)"
   ]
  },
  {
   "cell_type": "code",
   "execution_count": 30,
   "id": "b7258a8c-4705-47cc-8128-794f6dcac3c7",
   "metadata": {},
   "outputs": [],
   "source": [
    "# Building the model\n",
    "from sklearn.model_selection import train_test_split\n",
    "\n",
    "X_train, X_test, y_train, y_test = train_test_split(train_df, train_y, test_size=0.3, random_state=0)"
   ]
  },
  {
   "cell_type": "code",
   "execution_count": 31,
   "id": "9bca0783-0c89-4d48-ad65-1dd9dee63144",
   "metadata": {},
   "outputs": [
    {
     "data": {
      "text/html": [
       "<style>#sk-container-id-1 {color: black;}#sk-container-id-1 pre{padding: 0;}#sk-container-id-1 div.sk-toggleable {background-color: white;}#sk-container-id-1 label.sk-toggleable__label {cursor: pointer;display: block;width: 100%;margin-bottom: 0;padding: 0.3em;box-sizing: border-box;text-align: center;}#sk-container-id-1 label.sk-toggleable__label-arrow:before {content: \"▸\";float: left;margin-right: 0.25em;color: #696969;}#sk-container-id-1 label.sk-toggleable__label-arrow:hover:before {color: black;}#sk-container-id-1 div.sk-estimator:hover label.sk-toggleable__label-arrow:before {color: black;}#sk-container-id-1 div.sk-toggleable__content {max-height: 0;max-width: 0;overflow: hidden;text-align: left;background-color: #f0f8ff;}#sk-container-id-1 div.sk-toggleable__content pre {margin: 0.2em;color: black;border-radius: 0.25em;background-color: #f0f8ff;}#sk-container-id-1 input.sk-toggleable__control:checked~div.sk-toggleable__content {max-height: 200px;max-width: 100%;overflow: auto;}#sk-container-id-1 input.sk-toggleable__control:checked~label.sk-toggleable__label-arrow:before {content: \"▾\";}#sk-container-id-1 div.sk-estimator input.sk-toggleable__control:checked~label.sk-toggleable__label {background-color: #d4ebff;}#sk-container-id-1 div.sk-label input.sk-toggleable__control:checked~label.sk-toggleable__label {background-color: #d4ebff;}#sk-container-id-1 input.sk-hidden--visually {border: 0;clip: rect(1px 1px 1px 1px);clip: rect(1px, 1px, 1px, 1px);height: 1px;margin: -1px;overflow: hidden;padding: 0;position: absolute;width: 1px;}#sk-container-id-1 div.sk-estimator {font-family: monospace;background-color: #f0f8ff;border: 1px dotted black;border-radius: 0.25em;box-sizing: border-box;margin-bottom: 0.5em;}#sk-container-id-1 div.sk-estimator:hover {background-color: #d4ebff;}#sk-container-id-1 div.sk-parallel-item::after {content: \"\";width: 100%;border-bottom: 1px solid gray;flex-grow: 1;}#sk-container-id-1 div.sk-label:hover label.sk-toggleable__label {background-color: #d4ebff;}#sk-container-id-1 div.sk-serial::before {content: \"\";position: absolute;border-left: 1px solid gray;box-sizing: border-box;top: 0;bottom: 0;left: 50%;z-index: 0;}#sk-container-id-1 div.sk-serial {display: flex;flex-direction: column;align-items: center;background-color: white;padding-right: 0.2em;padding-left: 0.2em;position: relative;}#sk-container-id-1 div.sk-item {position: relative;z-index: 1;}#sk-container-id-1 div.sk-parallel {display: flex;align-items: stretch;justify-content: center;background-color: white;position: relative;}#sk-container-id-1 div.sk-item::before, #sk-container-id-1 div.sk-parallel-item::before {content: \"\";position: absolute;border-left: 1px solid gray;box-sizing: border-box;top: 0;bottom: 0;left: 50%;z-index: -1;}#sk-container-id-1 div.sk-parallel-item {display: flex;flex-direction: column;z-index: 1;position: relative;background-color: white;}#sk-container-id-1 div.sk-parallel-item:first-child::after {align-self: flex-end;width: 50%;}#sk-container-id-1 div.sk-parallel-item:last-child::after {align-self: flex-start;width: 50%;}#sk-container-id-1 div.sk-parallel-item:only-child::after {width: 0;}#sk-container-id-1 div.sk-dashed-wrapped {border: 1px dashed gray;margin: 0 0.4em 0.5em 0.4em;box-sizing: border-box;padding-bottom: 0.4em;background-color: white;}#sk-container-id-1 div.sk-label label {font-family: monospace;font-weight: bold;display: inline-block;line-height: 1.2em;}#sk-container-id-1 div.sk-label-container {text-align: center;}#sk-container-id-1 div.sk-container {/* jupyter's `normalize.less` sets `[hidden] { display: none; }` but bootstrap.min.css set `[hidden] { display: none !important; }` so we also need the `!important` here to be able to override the default hidden behavior on the sphinx rendered scikit-learn.org. See: https://github.com/scikit-learn/scikit-learn/issues/21755 */display: inline-block !important;position: relative;}#sk-container-id-1 div.sk-text-repr-fallback {display: none;}</style><div id=\"sk-container-id-1\" class=\"sk-top-container\"><div class=\"sk-text-repr-fallback\"><pre>LogisticRegression()</pre><b>In a Jupyter environment, please rerun this cell to show the HTML representation or trust the notebook. <br />On GitHub, the HTML representation is unable to render, please try loading this page with nbviewer.org.</b></div><div class=\"sk-container\" hidden><div class=\"sk-item\"><div class=\"sk-estimator sk-toggleable\"><input class=\"sk-toggleable__control sk-hidden--visually\" id=\"sk-estimator-id-1\" type=\"checkbox\" checked><label for=\"sk-estimator-id-1\" class=\"sk-toggleable__label sk-toggleable__label-arrow\">LogisticRegression</label><div class=\"sk-toggleable__content\"><pre>LogisticRegression()</pre></div></div></div></div></div>"
      ],
      "text/plain": [
       "LogisticRegression()"
      ]
     },
     "execution_count": 31,
     "metadata": {},
     "output_type": "execute_result"
    }
   ],
   "source": [
    "# Let's initialize the model\n",
    "from sklearn.linear_model import LogisticRegression\n",
    "log = LogisticRegression()\n",
    "log.fit(X_train, y_train)"
   ]
  },
  {
   "cell_type": "code",
   "execution_count": 32,
   "id": "e33fb3aa-80a0-4cf5-8364-1fe76cd343e8",
   "metadata": {},
   "outputs": [],
   "source": [
    "y_pred_test = log.predict(X_test)"
   ]
  },
  {
   "cell_type": "code",
   "execution_count": 33,
   "id": "6ded3d4f-425e-4fb1-9bb5-930f0f709ab2",
   "metadata": {},
   "outputs": [
    {
     "name": "stdout",
     "output_type": "stream",
     "text": [
      "              precision    recall  f1-score   support\n",
      "\n",
      "           0       0.94      0.97      0.96      2900\n",
      "           1       0.92      0.87      0.89      1256\n",
      "\n",
      "    accuracy                           0.94      4156\n",
      "   macro avg       0.93      0.92      0.92      4156\n",
      "weighted avg       0.94      0.94      0.94      4156\n",
      "\n"
     ]
    }
   ],
   "source": [
    "from sklearn.metrics import classification_report\n",
    "print(classification_report(y_test, y_pred_test))"
   ]
  },
  {
   "cell_type": "code",
   "execution_count": 34,
   "id": "66aa3d79-2bcb-4d50-9531-b39d5d9095bd",
   "metadata": {},
   "outputs": [
    {
     "data": {
      "text/plain": [
       "['log_trained_model_v1.pkl']"
      ]
     },
     "execution_count": 34,
     "metadata": {},
     "output_type": "execute_result"
    }
   ],
   "source": [
    "# Serialization & Deserialization\n",
    "import joblib\n",
    "joblib.dump(log, \"log_trained_model_v1.pkl\")"
   ]
  },
  {
   "cell_type": "code",
   "execution_count": 35,
   "id": "e5280555-c8c4-4dca-80f7-0a6652f1a089",
   "metadata": {},
   "outputs": [],
   "source": [
    "final_model = joblib.load(\"log_trained_model_v1.pkl\")"
   ]
  },
  {
   "cell_type": "code",
   "execution_count": 36,
   "id": "45c0dbbb-e158-461c-87dc-f0f3f9ececf1",
   "metadata": {},
   "outputs": [
    {
     "data": {
      "text/html": [
       "<style>#sk-container-id-2 {color: black;}#sk-container-id-2 pre{padding: 0;}#sk-container-id-2 div.sk-toggleable {background-color: white;}#sk-container-id-2 label.sk-toggleable__label {cursor: pointer;display: block;width: 100%;margin-bottom: 0;padding: 0.3em;box-sizing: border-box;text-align: center;}#sk-container-id-2 label.sk-toggleable__label-arrow:before {content: \"▸\";float: left;margin-right: 0.25em;color: #696969;}#sk-container-id-2 label.sk-toggleable__label-arrow:hover:before {color: black;}#sk-container-id-2 div.sk-estimator:hover label.sk-toggleable__label-arrow:before {color: black;}#sk-container-id-2 div.sk-toggleable__content {max-height: 0;max-width: 0;overflow: hidden;text-align: left;background-color: #f0f8ff;}#sk-container-id-2 div.sk-toggleable__content pre {margin: 0.2em;color: black;border-radius: 0.25em;background-color: #f0f8ff;}#sk-container-id-2 input.sk-toggleable__control:checked~div.sk-toggleable__content {max-height: 200px;max-width: 100%;overflow: auto;}#sk-container-id-2 input.sk-toggleable__control:checked~label.sk-toggleable__label-arrow:before {content: \"▾\";}#sk-container-id-2 div.sk-estimator input.sk-toggleable__control:checked~label.sk-toggleable__label {background-color: #d4ebff;}#sk-container-id-2 div.sk-label input.sk-toggleable__control:checked~label.sk-toggleable__label {background-color: #d4ebff;}#sk-container-id-2 input.sk-hidden--visually {border: 0;clip: rect(1px 1px 1px 1px);clip: rect(1px, 1px, 1px, 1px);height: 1px;margin: -1px;overflow: hidden;padding: 0;position: absolute;width: 1px;}#sk-container-id-2 div.sk-estimator {font-family: monospace;background-color: #f0f8ff;border: 1px dotted black;border-radius: 0.25em;box-sizing: border-box;margin-bottom: 0.5em;}#sk-container-id-2 div.sk-estimator:hover {background-color: #d4ebff;}#sk-container-id-2 div.sk-parallel-item::after {content: \"\";width: 100%;border-bottom: 1px solid gray;flex-grow: 1;}#sk-container-id-2 div.sk-label:hover label.sk-toggleable__label {background-color: #d4ebff;}#sk-container-id-2 div.sk-serial::before {content: \"\";position: absolute;border-left: 1px solid gray;box-sizing: border-box;top: 0;bottom: 0;left: 50%;z-index: 0;}#sk-container-id-2 div.sk-serial {display: flex;flex-direction: column;align-items: center;background-color: white;padding-right: 0.2em;padding-left: 0.2em;position: relative;}#sk-container-id-2 div.sk-item {position: relative;z-index: 1;}#sk-container-id-2 div.sk-parallel {display: flex;align-items: stretch;justify-content: center;background-color: white;position: relative;}#sk-container-id-2 div.sk-item::before, #sk-container-id-2 div.sk-parallel-item::before {content: \"\";position: absolute;border-left: 1px solid gray;box-sizing: border-box;top: 0;bottom: 0;left: 50%;z-index: -1;}#sk-container-id-2 div.sk-parallel-item {display: flex;flex-direction: column;z-index: 1;position: relative;background-color: white;}#sk-container-id-2 div.sk-parallel-item:first-child::after {align-self: flex-end;width: 50%;}#sk-container-id-2 div.sk-parallel-item:last-child::after {align-self: flex-start;width: 50%;}#sk-container-id-2 div.sk-parallel-item:only-child::after {width: 0;}#sk-container-id-2 div.sk-dashed-wrapped {border: 1px dashed gray;margin: 0 0.4em 0.5em 0.4em;box-sizing: border-box;padding-bottom: 0.4em;background-color: white;}#sk-container-id-2 div.sk-label label {font-family: monospace;font-weight: bold;display: inline-block;line-height: 1.2em;}#sk-container-id-2 div.sk-label-container {text-align: center;}#sk-container-id-2 div.sk-container {/* jupyter's `normalize.less` sets `[hidden] { display: none; }` but bootstrap.min.css set `[hidden] { display: none !important; }` so we also need the `!important` here to be able to override the default hidden behavior on the sphinx rendered scikit-learn.org. See: https://github.com/scikit-learn/scikit-learn/issues/21755 */display: inline-block !important;position: relative;}#sk-container-id-2 div.sk-text-repr-fallback {display: none;}</style><div id=\"sk-container-id-2\" class=\"sk-top-container\"><div class=\"sk-text-repr-fallback\"><pre>LogisticRegression()</pre><b>In a Jupyter environment, please rerun this cell to show the HTML representation or trust the notebook. <br />On GitHub, the HTML representation is unable to render, please try loading this page with nbviewer.org.</b></div><div class=\"sk-container\" hidden><div class=\"sk-item\"><div class=\"sk-estimator sk-toggleable\"><input class=\"sk-toggleable__control sk-hidden--visually\" id=\"sk-estimator-id-2\" type=\"checkbox\" checked><label for=\"sk-estimator-id-2\" class=\"sk-toggleable__label sk-toggleable__label-arrow\">LogisticRegression</label><div class=\"sk-toggleable__content\"><pre>LogisticRegression()</pre></div></div></div></div></div>"
      ],
      "text/plain": [
       "LogisticRegression()"
      ]
     },
     "execution_count": 36,
     "metadata": {},
     "output_type": "execute_result"
    }
   ],
   "source": [
    "# Check final model\n",
    "final_model"
   ]
  },
  {
   "cell_type": "code",
   "execution_count": 37,
   "id": "0acb076c-bede-49e5-9075-bb49b42d8bea",
   "metadata": {},
   "outputs": [
    {
     "data": {
      "text/plain": [
       "(array([-2.10390973]),\n",
       " array([[ 1.64370645, -0.02871501, -0.10247344, -0.00856863, -0.01678236,\n",
       "         -0.01824755, -0.03344421,  0.04077326,  0.00984667,  0.08341515,\n",
       "         -0.46804013, -0.04629651,  2.50561617,  1.99936365, -0.0681306 ,\n",
       "         -0.13449706,  0.07461028, -0.1532065 , -0.0837062 ]]))"
      ]
     },
     "execution_count": 37,
     "metadata": {},
     "output_type": "execute_result"
    }
   ],
   "source": [
    "final_model.intercept_, final_model.coef_"
   ]
  },
  {
   "cell_type": "code",
   "execution_count": 38,
   "id": "60dbf955-7274-4289-b0a1-b39910a3c168",
   "metadata": {},
   "outputs": [
    {
     "data": {
      "text/plain": [
       "(array([-2.10390973]),\n",
       " array([[ 1.64370645, -0.02871501, -0.10247344, -0.00856863, -0.01678236,\n",
       "         -0.01824755, -0.03344421,  0.04077326,  0.00984667,  0.08341515,\n",
       "         -0.46804013, -0.04629651,  2.50561617,  1.99936365, -0.0681306 ,\n",
       "         -0.13449706,  0.07461028, -0.1532065 , -0.0837062 ]]))"
      ]
     },
     "execution_count": 38,
     "metadata": {},
     "output_type": "execute_result"
    }
   ],
   "source": [
    "log.intercept_, log.coef_"
   ]
  },
  {
   "cell_type": "code",
   "execution_count": null,
   "id": "9e5e671b-2afa-45cd-8e0f-728474a351df",
   "metadata": {},
   "outputs": [],
   "source": []
  }
 ],
 "metadata": {
  "kernelspec": {
   "display_name": "venv",
   "language": "python",
   "name": "python3"
  },
  "language_info": {
   "codemirror_mode": {
    "name": "ipython",
    "version": 3
   },
   "file_extension": ".py",
   "mimetype": "text/x-python",
   "name": "python",
   "nbconvert_exporter": "python",
   "pygments_lexer": "ipython3",
   "version": "3.11.8"
  }
 },
 "nbformat": 4,
 "nbformat_minor": 5
}
